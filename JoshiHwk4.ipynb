{
 "cells": [
  {
   "cell_type": "markdown",
   "metadata": {},
   "source": [
    "## For assignment 4"
   ]
  },
  {
   "cell_type": "markdown",
   "metadata": {},
   "source": [
    "#### This project is an extension of assignment 2, to a 2D feature space and to\n",
    "####  a classification problem. You will note that the accuracy of the model\n",
    "####  is not that high, suggesting that the model may not be the most\n",
    "####  appropriate for the proposed data."
   ]
  },
  {
   "cell_type": "code",
   "execution_count": 127,
   "metadata": {},
   "outputs": [],
   "source": [
    "#Soham Joshi U00304073"
   ]
  },
  {
   "cell_type": "code",
   "execution_count": 128,
   "metadata": {
    "collapsed": true
   },
   "outputs": [],
   "source": [
    "import numpy as np\n",
    "\n",
    "import matplotlib.pyplot as plt\n",
    "\n",
    "%matplotlib inline"
   ]
  },
  {
   "cell_type": "markdown",
   "metadata": {},
   "source": [
    "### First, the (simulated) data."
   ]
  },
  {
   "cell_type": "code",
   "execution_count": 129,
   "metadata": {
    "collapsed": true
   },
   "outputs": [],
   "source": [
    "\n",
    "# red class  =  class 0\n",
    "\n",
    "x0 = np.random.normal(2, 1, (60, 1))\n",
    "y0 = np.random.normal(1, 1, (60, 1))\n",
    "\n",
    "# green class  =  class 1\n",
    "\n",
    "x1 = np.random.normal(5, 1, (70, 1))\n",
    "y1 = np.random.normal(4, 1, (70, 1))\n",
    "\n",
    "# blue class  =  class 2\n",
    "\n",
    "x2 = np.random.normal(3, 1, (80, 1))\n",
    "y2 = np.random.normal(7, 1, (80, 1))\n",
    "\n",
    "# yellow class  =  class 3\n",
    "\n",
    "x3 = np.random.normal(8, 1, (90, 1))\n",
    "y3 = np.random.normal(0, 1, (90, 1))\n",
    "\n"
   ]
  },
  {
   "cell_type": "code",
   "execution_count": 130,
   "metadata": {},
   "outputs": [
    {
     "data": {
      "image/png": "[encoded data removed]",
      "text/plain": [
       "<matplotlib.figure.Figure at 0x26816068470>"
      ]
     },
     "metadata": {},
     "output_type": "display_data"
    }
   ],
   "source": [
    "plt.scatter(x0, y0, c='r', marker='o', s=40)\n",
    "plt.scatter(x1, y1, c='g', marker='x', s=40)\n",
    "plt.scatter(x2, y2, c='b', marker='x', s=40)\n",
    "plt.scatter(x3, y3, c='y', marker='o', s=40)\n",
    "\n",
    "plt.show()"
   ]
  },
  {
   "cell_type": "markdown",
   "metadata": {},
   "source": [
    "###  Combine the data into a single tensor."
   ]
  },
  {
   "cell_type": "code",
   "execution_count": 131,
   "metadata": {
    "collapsed": true
   },
   "outputs": [],
   "source": [
    "d0 = np.hstack((x0, y0))\n",
    "d1 = np.hstack((x1, y1))\n",
    "d2 = np.hstack((x2, y2))\n",
    "d3 = np.hstack((x3, y3))\n",
    "\n",
    "feature_xy = np.vstack((d0, d1, d2, d3))"
   ]
  },
  {
   "cell_type": "code",
   "execution_count": 132,
   "metadata": {},
   "outputs": [
    {
     "data": {
      "text/plain": [
       "(300, 2)"
      ]
     },
     "execution_count": 132,
     "metadata": {},
     "output_type": "execute_result"
    }
   ],
   "source": [
    "#   show shape of feature_xy\n",
    "feature_xy.shape"
   ]
  },
  {
   "cell_type": "markdown",
   "metadata": {},
   "source": [
    "### Make one-hot encoding of the (desired) target classes"
   ]
  },
  {
   "cell_type": "code",
   "execution_count": 133,
   "metadata": {
    "collapsed": true
   },
   "outputs": [],
   "source": [
    "expected_class = np.matrix([[1., 0., 0., 0.]] * len(x0) \\\n",
    "                        +  [[0., 1., 0., 0.]] * len(x1) \\\n",
    "                        +  [[0., 0., 1., 0.]] * len(x2) \\\n",
    "                        +  [[0., 0., 0., 1.]] * len(x3) )"
   ]
  },
  {
   "cell_type": "markdown",
   "metadata": {},
   "source": [
    "### Shuffle the data points (and corresponding classes)\n",
    "### to avoid skewing the learning."
   ]
  },
  {
   "cell_type": "code",
   "execution_count": 134,
   "metadata": {},
   "outputs": [],
   "source": [
    "indices = np.arange(feature_xy.shape[0])\n",
    "\n",
    "np.random.shuffle(indices)\n",
    "\n",
    "feature_xy = feature_xy[indices, :]\n",
    "\n",
    "expected_class = expected_class[indices, :]"
   ]
  },
  {
   "cell_type": "markdown",
   "metadata": {},
   "source": [
    "### The usual."
   ]
  },
  {
   "cell_type": "code",
   "execution_count": 135,
   "metadata": {
    "collapsed": true
   },
   "outputs": [],
   "source": [
    "import tensorflow as tf"
   ]
  },
  {
   "cell_type": "markdown",
   "metadata": {},
   "source": [
    "### Hyper-parameters.   Play with these, to see if they make a difference."
   ]
  },
  {
   "cell_type": "code",
   "execution_count": 136,
   "metadata": {
    "collapsed": true
   },
   "outputs": [],
   "source": [
    "learning_rate = 0.04 #Changing the learning rate from 0.03 to 0.04 increased the accuracy\n",
    "training_epochs = 9000\n",
    "\n",
    "num_classes = 4\n",
    "batch_size = 100"
   ]
  },
  {
   "cell_type": "markdown",
   "metadata": {},
   "source": [
    "###  The feature tensor shape."
   ]
  },
  {
   "cell_type": "code",
   "execution_count": 137,
   "metadata": {
    "collapsed": true
   },
   "outputs": [],
   "source": [
    "training_size, num_features = feature_xy.shape"
   ]
  },
  {
   "cell_type": "markdown",
   "metadata": {},
   "source": [
    "###  1. Make placeholders X and Y for model inputs and corresponding desired classes."
   ]
  },
  {
   "cell_type": "code",
   "execution_count": 138,
   "metadata": {},
   "outputs": [],
   "source": [
    "X = tf.placeholder(\"float\", shape=[None, 2])\n",
    "Y = tf.placeholder(\"float\", shape=[None, 4])"
   ]
  },
  {
   "cell_type": "markdown",
   "metadata": {},
   "source": [
    "### 2. Make variables W and b for the weights and biases of the TensorFlow model."
   ]
  },
  {
   "cell_type": "code",
   "execution_count": 139,
   "metadata": {
    "collapsed": true
   },
   "outputs": [],
   "source": [
    "w = tf.Variable(tf.random_normal([2, 4]), name=\"weights\")\n",
    "b = tf.Variable(tf.random_normal([4]), name=\"bias\")"
   ]
  },
  {
   "cell_type": "markdown",
   "metadata": {},
   "source": [
    "###  3. Define the model, i.e. the model output.  I just call it model.\n",
    "###      Use the sigmoid activation. Softmax the output, of course."
   ]
  },
  {
   "cell_type": "code",
   "execution_count": 140,
   "metadata": {},
   "outputs": [],
   "source": [
    "output1 = tf.matmul(X, w)\n",
    "output2 = tf.add(output1, b)\n",
    "sigmd = tf.nn.sigmoid(output2)\n",
    "model = tf.nn.softmax(sigmd)"
   ]
  },
  {
   "cell_type": "markdown",
   "metadata": {},
   "source": [
    "### 4. Define the loss (cost) function as the cross-entropy \n",
    "### between desired class and actual class computed by model."
   ]
  },
  {
   "cell_type": "code",
   "execution_count": 141,
   "metadata": {},
   "outputs": [],
   "source": [
    "output_y = tf.clip_by_value(model, 1e-10, 0.9999999)\n",
    "loss = -tf.reduce_mean(tf.reduce_sum(Y * tf.log(output_y) + (1 - Y) * tf.log(1 - output_y), axis=1))"
   ]
  },
  {
   "cell_type": "markdown",
   "metadata": {},
   "source": [
    "### 5. Define minimizer for the loss function."
   ]
  },
  {
   "cell_type": "code",
   "execution_count": 142,
   "metadata": {},
   "outputs": [],
   "source": [
    "minimizer = tf.train.GradientDescentOptimizer(learning_rate).minimize(loss)"
   ]
  },
  {
   "cell_type": "markdown",
   "metadata": {},
   "source": [
    "### 6. Make the Session object, and\n",
    "###     initialize global variables."
   ]
  },
  {
   "cell_type": "code",
   "execution_count": 143,
   "metadata": {
    "collapsed": true
   },
   "outputs": [],
   "source": [
    "init = tf.global_variables_initializer()"
   ]
  },
  {
   "cell_type": "code",
   "execution_count": 144,
   "metadata": {},
   "outputs": [],
   "source": [
    "sess = tf.Session()"
   ]
  },
  {
   "cell_type": "code",
   "execution_count": 145,
   "metadata": {},
   "outputs": [],
   "source": [
    "sess.run(init)"
   ]
  },
  {
   "cell_type": "markdown",
   "metadata": {},
   "source": [
    "### The batch training"
   ]
  },
  {
   "cell_type": "code",
   "execution_count": 146,
   "metadata": {},
   "outputs": [
    {
     "name": "stdout",
     "output_type": "stream",
     "text": [
      "0 2.1067462\n",
      "200 2.0387504\n",
      "400 2.042334\n",
      "600 1.9880887\n",
      "800 2.0095065\n",
      "1000 1.9934726\n",
      "1200 1.9633172\n",
      "1400 1.9845605\n",
      "1600 1.9062912\n",
      "1800 1.897493\n",
      "2000 1.9204624\n",
      "2200 1.8607488\n",
      "2400 1.869678\n",
      "2600 1.8958021\n",
      "2800 1.836112\n",
      "3000 1.8519301\n",
      "3200 1.8780549\n",
      "3400 1.818572\n",
      "3600 1.8390188\n",
      "3800 1.8646572\n",
      "4000 1.8055663\n",
      "4200 1.8293074\n",
      "4400 1.8543128\n",
      "4600 1.7956356\n",
      "4800 1.8218006\n",
      "5000 1.8461298\n",
      "5200 1.7878379\n",
      "5400 1.8158455\n",
      "5600 1.8394983\n",
      "5800 1.781558\n",
      "6000 1.8110081\n",
      "6200 1.834005\n",
      "6400 1.776387\n",
      "6600 1.8069965\n",
      "6800 1.8293655\n",
      "7000 1.7720473\n",
      "7200 1.8036095\n",
      "7400 1.8253813\n",
      "7600 1.7683458\n",
      "7800 1.8007053\n",
      "8000 1.8219107\n",
      "8200 1.765145\n",
      "8400 1.798182\n",
      "8600 1.81885\n",
      "8800 1.7623434\n",
      "9000 1.7959645\n",
      "9200 1.8161224\n",
      "9400 1.7598671\n",
      "9600 1.7939961\n",
      "9800 1.81367\n",
      "10000 1.7576581\n",
      "10200 1.792234\n",
      "10400 1.8114468\n",
      "10600 1.7556726\n",
      "10800 1.790644\n",
      "11000 1.8094181\n",
      "11200 1.7538756\n",
      "11400 1.7892008\n",
      "11600 1.807556\n",
      "11800 1.7522397\n",
      "12000 1.7878822\n",
      "12200 1.8058375\n",
      "12400 1.7507422\n",
      "12600 1.7866719\n",
      "12800 1.8042444\n",
      "13000 1.749365\n",
      "13200 1.7855552\n",
      "13400 1.8027614\n",
      "13600 1.748093\n",
      "13800 1.7845209\n",
      "14000 1.801376\n",
      "14200 1.7469134\n",
      "14400 1.7835593\n",
      "14600 1.8000772\n",
      "14800 1.7458159\n",
      "15000 1.782662\n",
      "15200 1.7988563\n",
      "15400 1.7447912\n",
      "15600 1.7818223\n",
      "15800 1.7977054\n",
      "16000 1.7438315\n",
      "16200 1.7810346\n",
      "16400 1.7966177\n",
      "16600 1.7429307\n",
      "16800 1.780293\n",
      "17000 1.7955878\n",
      "17200 1.7420827\n",
      "17400 1.7795937\n",
      "17600 1.7946103\n",
      "17800 1.7412829\n",
      "18000 1.7789323\n",
      "18200 1.793681\n",
      "18400 1.7405264\n",
      "18600 1.7783066\n",
      "18800 1.7927955\n",
      "19000 1.7398098\n",
      "19200 1.7777117\n",
      "19400 1.7919512\n",
      "19600 1.7391295\n",
      "19800 1.7771469\n",
      "20000 1.7911441\n",
      "20200 1.7384827\n",
      "20400 1.776609\n",
      "20600 1.790372\n",
      "20800 1.7378669\n",
      "21000 1.7760959\n",
      "21200 1.7896321\n",
      "21400 1.7372795\n",
      "21600 1.7756058\n",
      "21800 1.7889221\n",
      "22000 1.7367182\n",
      "22200 1.7751371\n",
      "22400 1.7882407\n",
      "22600 1.7361814\n",
      "22800 1.7746884\n",
      "23000 1.7875847\n",
      "23200 1.7356672\n",
      "23400 1.7742581\n",
      "23600 1.7869534\n",
      "23800 1.7351743\n",
      "24000 1.773845\n",
      "24200 1.7863452\n",
      "24400 1.7347009\n",
      "24600 1.7734482\n",
      "24800 1.7857585\n",
      "25000 1.7342463\n",
      "25200 1.7730664\n",
      "25400 1.785192\n",
      "25600 1.7338088\n",
      "25800 1.7726989\n",
      "26000 1.7846447\n",
      "26200 1.7333874\n",
      "26400 1.7723447\n",
      "26600 1.7841154\n",
      "26800 1.7329812\n"
     ]
    }
   ],
   "source": [
    "for step in range(training_epochs * training_size // batch_size):\n",
    "    offset = (step * batch_size) % training_size\n",
    "    batch_data = feature_xy[offset:(offset + batch_size), :]\n",
    "    batch_classes = expected_class[offset:(offset + batch_size)]\n",
    "    err, _ = sess.run([loss, minimizer], feed_dict={X: batch_data, Y: batch_classes})\n",
    "    if step % 200 == 0:\n",
    "        print (step, err)"
   ]
  },
  {
   "cell_type": "markdown",
   "metadata": {},
   "source": [
    "###  7. Show the weights and biases obtained for the model, after training."
   ]
  },
  {
   "cell_type": "code",
   "execution_count": 147,
   "metadata": {},
   "outputs": [
    {
     "name": "stdout",
     "output_type": "stream",
     "text": [
      "Weight w is: <tf.Variable 'weights_4:0' shape=(2, 4) dtype=float32_ref>\n",
      "Bias b is: <tf.Variable 'bias_4:0' shape=(4,) dtype=float32_ref>\n"
     ]
    }
   ],
   "source": [
    "print(\"Weight w is:\", w)\n",
    "print(\"Bias b is:\", b)"
   ]
  },
  {
   "cell_type": "markdown",
   "metadata": {},
   "source": [
    "###  Make a few predictions."
   ]
  },
  {
   "cell_type": "code",
   "execution_count": 148,
   "metadata": {},
   "outputs": [
    {
     "name": "stdout",
     "output_type": "stream",
     "text": [
      "[0]\n"
     ]
    }
   ],
   "source": [
    "feed_dict = { X: [[8.0,-1.0]] }    # input X must be of shape [None,2]\n",
    "c_vector = sess.run(model, feed_dict)\n",
    "c_number = sess.run(tf.argmax(c_vector,1))\n",
    "print(c_number)"
   ]
  },
  {
   "cell_type": "code",
   "execution_count": 149,
   "metadata": {},
   "outputs": [
    {
     "name": "stdout",
     "output_type": "stream",
     "text": [
      "[1]\n"
     ]
    }
   ],
   "source": [
    "feed_dict = { X: [[10.0, 4.0]] }    # input X must be of shape [None,2]\n",
    "c_vector = sess.run(model, feed_dict)\n",
    "c_number = sess.run(tf.argmax(c_vector,1))\n",
    "print(c_number)"
   ]
  },
  {
   "cell_type": "code",
   "execution_count": 150,
   "metadata": {},
   "outputs": [
    {
     "name": "stdout",
     "output_type": "stream",
     "text": [
      "[1]\n"
     ]
    }
   ],
   "source": [
    "feed_dict = { X: [[15.0,20.0]] }    # input X must be of shape [None,2]\n",
    "c_vector = sess.run(model, feed_dict)\n",
    "c_number = sess.run(tf.argmax(c_vector,1))\n",
    "print(c_number)"
   ]
  },
  {
   "cell_type": "code",
   "execution_count": 151,
   "metadata": {},
   "outputs": [
    {
     "name": "stdout",
     "output_type": "stream",
     "text": [
      "[0]\n"
     ]
    }
   ],
   "source": [
    "feed_dict = { X: [[-6.0,1.0]] }    # input X must be of shape [None,2]\n",
    "c_vector = sess.run(model, feed_dict)\n",
    "c_number = sess.run(tf.argmax(c_vector,1))\n",
    "print(c_number)"
   ]
  },
  {
   "cell_type": "markdown",
   "metadata": {},
   "source": [
    "### Making an accuracy node."
   ]
  },
  {
   "cell_type": "code",
   "execution_count": 152,
   "metadata": {},
   "outputs": [],
   "source": [
    "true_pred = tf.equal(tf.argmax(model, 1), tf.argmax(Y, 1))\n",
    "accuracy = tf.reduce_mean(tf.cast(true_pred, \"float\"))"
   ]
  },
  {
   "cell_type": "markdown",
   "metadata": {},
   "source": [
    "### Use on the original data."
   ]
  },
  {
   "cell_type": "code",
   "execution_count": 153,
   "metadata": {
    "collapsed": true
   },
   "outputs": [],
   "source": [
    "training_accuracy = sess.run([accuracy], feed_dict={X: feature_xy, Y: expected_class})"
   ]
  },
  {
   "cell_type": "code",
   "execution_count": 154,
   "metadata": {},
   "outputs": [
    {
     "name": "stdout",
     "output_type": "stream",
     "text": [
      "[0.42666668]\n"
     ]
    }
   ],
   "source": [
    "print(training_accuracy)"
   ]
  },
  {
   "cell_type": "markdown",
   "metadata": {
    "collapsed": true
   },
   "source": [
    "### 8. Make test data similar to the provided data above.\n",
    "###     Just 10 datapoints for each of the 4 classes."
   ]
  },
  {
   "cell_type": "code",
   "execution_count": 155,
   "metadata": {
    "collapsed": true
   },
   "outputs": [],
   "source": [
    "# red class  =  class 0\n",
    "\n",
    "w0 = np.random.normal(2, 1, (10, 1))\n",
    "z0 = np.random.normal(1, 1, (10, 1))\n",
    "\n",
    "# green class  =  class 1\n",
    "\n",
    "w1 = np.random.normal(5, 1, (10, 1))\n",
    "z1 = np.random.normal(4, 1, (10, 1))\n",
    "\n",
    "# blue class  =  class 2\n",
    "\n",
    "w2 = np.random.normal(3, 1, (10, 1))\n",
    "z2 = np.random.normal(7, 1, (10, 1))\n",
    "\n",
    "# yellow class  =  class 3\n",
    "\n",
    "w3 = np.random.normal(8, 1, (10, 1))\n",
    "z3 = np.random.normal(0, 1, (10, 1))\n"
   ]
  },
  {
   "cell_type": "code",
   "execution_count": 156,
   "metadata": {},
   "outputs": [],
   "source": [
    "a0 = np.hstack((w0, z0))\n",
    "a1 = np.hstack((w1, z1))\n",
    "a2 = np.hstack((w2, z2))\n",
    "a3 = np.hstack((w3, z3))\n",
    "\n",
    "newfeature_xy = np.vstack((a0, a1, a2, a3))\n",
    "\n",
    "newfeature_xy.shape\n",
    "\n",
    "newexpected_class = np.matrix([[1., 0., 0., 0.]] * len(w0) \\\n",
    "                        +  [[0., 1., 0., 0.]] * len(w1) \\\n",
    "                        +  [[0., 0., 1., 0.]] * len(w2) \\\n",
    "                        +  [[0., 0., 0., 1.]] * len(w3) )\n",
    "\n",
    "new_indices = np.arange(newfeature_xy.shape[0])\n",
    "\n",
    "np.random.shuffle(new_indices)\n",
    "\n",
    "newfeature_xy = newfeature_xy[new_indices, :]\n",
    "\n",
    "newexpected_class = newexpected_class[new_indices, :]\n",
    "\n",
    "\n",
    "new_training_size, new_num_features = newfeature_xy.shape\n",
    "\n",
    "\n",
    "new_batch_size = 85"
   ]
  },
  {
   "cell_type": "markdown",
   "metadata": {},
   "source": [
    "###  9. Run the training on the test data."
   ]
  },
  {
   "cell_type": "code",
   "execution_count": 157,
   "metadata": {
    "collapsed": true
   },
   "outputs": [],
   "source": [
    "new_init = tf.global_variables_initializer()\n",
    "\n",
    "# run initializer\n",
    "new_sess = tf.Session()\n",
    "new_sess.run(new_init)"
   ]
  },
  {
   "cell_type": "code",
   "execution_count": 158,
   "metadata": {},
   "outputs": [
    {
     "name": "stdout",
     "output_type": "stream",
     "text": [
      "0 1.6992155\n",
      "200 1.6981022\n",
      "400 1.6975886\n",
      "600 1.6973168\n",
      "800 1.6971428\n",
      "1000 1.6970122\n",
      "1200 1.6969045\n",
      "1400 1.6968111\n",
      "1600 1.6967281\n",
      "1800 1.696653\n",
      "2000 1.696584\n",
      "2200 1.6965202\n",
      "2400 1.6964607\n",
      "2600 1.696405\n",
      "2800 1.6963524\n",
      "3000 1.6963027\n",
      "3200 1.696255\n",
      "3400 1.6962097\n",
      "3600 1.6961664\n",
      "3800 1.6961247\n",
      "4000 1.6960846\n",
      "4200 1.6960456\n"
     ]
    }
   ],
   "source": [
    "for new_step in range(training_epochs * new_training_size // new_batch_size):\n",
    "    offset = (step * new_batch_size) % new_training_size\n",
    "    new_batch_data = new_feature_xy[offset:(offset + new_batch_size), :]\n",
    "    new_batch_classes = new_expected_class[offset:(offset + new_batch_size)]\n",
    "    new_err, new_ = sess.run([loss, minimizer], feed_dict={X: new_batch_data, Y: new_batch_classes})\n",
    "    if new_step % 200 == 0:\n",
    "        print (new_step, new_err)"
   ]
  },
  {
   "cell_type": "markdown",
   "metadata": {},
   "source": [
    "###  10. Use accuracy node on your test data."
   ]
  },
  {
   "cell_type": "code",
   "execution_count": 159,
   "metadata": {},
   "outputs": [
    {
     "name": "stdout",
     "output_type": "stream",
     "text": [
      "[0]\n"
     ]
    }
   ],
   "source": [
    "feed_dict = { X: [[8.0,-1.0]] }    # input X must be of shape [None,2]\n",
    "c_vector = sess.run(model, feed_dict)\n",
    "c_number = sess.run(tf.argmax(c_vector,1))\n",
    "print(c_number)"
   ]
  },
  {
   "cell_type": "code",
   "execution_count": 160,
   "metadata": {},
   "outputs": [
    {
     "name": "stdout",
     "output_type": "stream",
     "text": [
      "[0.5]\n"
     ]
    }
   ],
   "source": [
    "new_pred = tf.equal(tf.argmax(model, 1), tf.argmax(Y, 1))\n",
    "accuracy = tf.reduce_mean(tf.cast(new_pred, \"float\"))\n",
    "\n",
    "new_accuracy = sess.run([accuracy], feed_dict={X: newfeature_xy, Y: newexpected_class})\n",
    "\n",
    "print(new_accuracy)"
   ]
  },
  {
   "cell_type": "code",
   "execution_count": null,
   "metadata": {
    "collapsed": true
   },
   "outputs": [],
   "source": []
  },
  {
   "cell_type": "code",
   "execution_count": null,
   "metadata": {
    "collapsed": true
   },
   "outputs": [],
   "source": []
  },
  {
   "cell_type": "code",
   "execution_count": null,
   "metadata": {
    "collapsed": true
   },
   "outputs": [],
   "source": []
  }
 ],
 "metadata": {
  "kernelspec": {
   "display_name": "Python 3",
   "language": "python",
   "name": "python3"
  },
  "language_info": {
   "codemirror_mode": {
    "name": "ipython",
    "version": 3
   },
   "file_extension": ".py",
   "mimetype": "text/x-python",
   "name": "python",
   "nbconvert_exporter": "python",
   "pygments_lexer": "ipython3",
   "version": "3.6.3"
  }
 },
 "nbformat": 4,
 "nbformat_minor": 1
}
