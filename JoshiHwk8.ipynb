{
 "cells": [
  {
   "cell_type": "code",
   "execution_count": 33,
   "metadata": {},
   "outputs": [],
   "source": [
    "import keras\n",
    "import numpy as np\n",
    "import matplotlib.pyplot as plt\n",
    "%matplotlib inline\n",
    "\n",
    "from keras.datasets import fashion_mnist\n",
    "from keras.models import Sequential\n",
    "from keras.layers import Dense, Dropout, Flatten, Conv2D, MaxPooling2D\n",
    "from keras import backend as K\n",
    "\n",
    "from sklearn.metrics import confusion_matrix\n"
   ]
  },
  {
   "cell_type": "code",
   "execution_count": 34,
   "metadata": {
    "collapsed": true
   },
   "outputs": [],
   "source": [
    "img_rows, img_cols = 28, 28"
   ]
  },
  {
   "cell_type": "code",
   "execution_count": 35,
   "metadata": {
    "collapsed": true
   },
   "outputs": [],
   "source": [
    "(x_train, y_train), (x_test, y_test) = fashion_mnist.load_data()"
   ]
  },
  {
   "cell_type": "code",
   "execution_count": 36,
   "metadata": {},
   "outputs": [
    {
     "data": {
      "text/plain": [
       "(60000, 28, 28)"
      ]
     },
     "execution_count": 36,
     "metadata": {},
     "output_type": "execute_result"
    }
   ],
   "source": [
    "x_train.shape"
   ]
  },
  {
   "cell_type": "code",
   "execution_count": 37,
   "metadata": {},
   "outputs": [
    {
     "data": {
      "text/plain": [
       "(60000,)"
      ]
     },
     "execution_count": 37,
     "metadata": {},
     "output_type": "execute_result"
    }
   ],
   "source": [
    "y_train.shape"
   ]
  },
  {
   "cell_type": "code",
   "execution_count": 38,
   "metadata": {},
   "outputs": [
    {
     "data": {
      "text/plain": [
       "(10000, 28, 28)"
      ]
     },
     "execution_count": 38,
     "metadata": {},
     "output_type": "execute_result"
    }
   ],
   "source": [
    "x_test.shape"
   ]
  },
  {
   "cell_type": "code",
   "execution_count": 39,
   "metadata": {},
   "outputs": [
    {
     "data": {
      "text/plain": [
       "(10000,)"
      ]
     },
     "execution_count": 39,
     "metadata": {},
     "output_type": "execute_result"
    }
   ],
   "source": [
    "y_test.shape"
   ]
  },
  {
   "cell_type": "code",
   "execution_count": 40,
   "metadata": {
    "collapsed": true
   },
   "outputs": [],
   "source": [
    "def display_image(data, nrows, ncols, index):\n",
    "    plt.subplot(nrows, ncols, index)    \n",
    "    plt.imshow(data, cmap='gray')"
   ]
  },
  {
   "cell_type": "code",
   "execution_count": 41,
   "metadata": {},
   "outputs": [
    {
     "data": {
      "image/png": "[encoded data removed]",
      "text/plain": [
       "<matplotlib.figure.Figure at 0x197a3765160>"
      ]
     },
     "metadata": {},
     "output_type": "display_data"
    }
   ],
   "source": [
    "ncols = 10\n",
    "plt.figure(figsize=(28,28))\n",
    "\n",
    "for i in range(ncols):\n",
    "    display_image(x_train[i], 1, ncols, i+1)"
   ]
  },
  {
   "cell_type": "code",
   "execution_count": 42,
   "metadata": {
    "collapsed": true
   },
   "outputs": [],
   "source": [
    "labels = { 0: 'T-shirt/Top', 1: 'Trouser', 2: 'Pullover', 3: 'Dress', 4: 'Coat', \\\n",
    "           5: 'Sandal', 6: 'Shirt', 7: 'Sneaker', 8: 'Bag' , 9: 'Ankle boot'}"
   ]
  },
  {
   "cell_type": "code",
   "execution_count": 43,
   "metadata": {
    "collapsed": true
   },
   "outputs": [],
   "source": [
    "batch_size = 128 \n",
    "num_classes = 10\n",
    "epochs = 5\n",
    "#Processing time is low that's why I kept the number of epochs 5."
   ]
  },
  {
   "cell_type": "code",
   "execution_count": 44,
   "metadata": {
    "collapsed": true
   },
   "outputs": [],
   "source": [
    "x_train = x_train.astype('float32')\n",
    "x_test = x_test.astype('float32')\n",
    "\n",
    "x_train /= 255\n",
    "x_test /= 255"
   ]
  },
  {
   "cell_type": "code",
   "execution_count": 45,
   "metadata": {
    "collapsed": true
   },
   "outputs": [],
   "source": [
    "y_train = keras.utils.to_categorical(y_train, num_classes)\n",
    "\n",
    "y_test = keras.utils.to_categorical(y_test, num_classes)\n"
   ]
  },
  {
   "cell_type": "code",
   "execution_count": 46,
   "metadata": {
    "collapsed": true
   },
   "outputs": [],
   "source": [
    "if K.image_data_format() == 'channels_first':\n",
    "    x_train = x_train.reshape(x_train.shape[0],1,img_rows,img_cols)\n",
    "    x_test = x_test.reshape(x_test.shape[0],1,img_rows,img_cols)\n",
    "    input_shape = (1, img_rows, img_cols)\n",
    "else:\n",
    "    x_train = x_train.reshape(x_train.shape[0],img_rows,img_cols,1)\n",
    "    x_test = x_test.reshape(x_test.shape[0],img_rows,img_cols,1)\n",
    "    input_shape = (img_rows, img_cols, 1)"
   ]
  },
  {
   "cell_type": "code",
   "execution_count": 64,
   "metadata": {
    "collapsed": true
   },
   "outputs": [],
   "source": [
    "model = Sequential()\n",
    "\n",
    "model.add(Conv2D(32, kernel_size=(3, 3),\n",
    "                 activation='relu',\n",
    "                 input_shape=input_shape))\n",
    "\n",
    "model.add(Conv2D(64, (3, 3), activation='relu'))\n",
    "\n",
    "model.add(Conv2D(64, (3, 3), activation='relu'))\n",
    "model.add(MaxPooling2D(pool_size=(2, 2)))\n",
    "model.add(Dropout(0.25))\n",
    "\n",
    "model.add(Flatten())\n",
    "\n",
    "model.add(Dense(128, activation='relu'))\n",
    "\n",
    "model.add(Dropout(0.5))\n",
    "model.add(Dense(64, activation='relu'))\n",
    "model.add(Dropout(0.5))\n",
    "\n",
    "model.add(Dense(num_classes, activation='softmax'))"
   ]
  },
  {
   "cell_type": "code",
   "execution_count": 65,
   "metadata": {},
   "outputs": [
    {
     "name": "stdout",
     "output_type": "stream",
     "text": [
      "_________________________________________________________________\n",
      "Layer (type)                 Output Shape              Param #   \n",
      "=================================================================\n",
      "conv2d_7 (Conv2D)            (None, 26, 26, 32)        320       \n",
      "_________________________________________________________________\n",
      "conv2d_8 (Conv2D)            (None, 24, 24, 64)        18496     \n",
      "_________________________________________________________________\n",
      "conv2d_9 (Conv2D)            (None, 22, 22, 64)        36928     \n",
      "_________________________________________________________________\n",
      "max_pooling2d_1 (MaxPooling2 (None, 11, 11, 64)        0         \n",
      "_________________________________________________________________\n",
      "dropout_7 (Dropout)          (None, 11, 11, 64)        0         \n",
      "_________________________________________________________________\n",
      "flatten_3 (Flatten)          (None, 7744)              0         \n",
      "_________________________________________________________________\n",
      "dense_7 (Dense)              (None, 128)               991360    \n",
      "_________________________________________________________________\n",
      "dropout_8 (Dropout)          (None, 128)               0         \n",
      "_________________________________________________________________\n",
      "dense_8 (Dense)              (None, 64)                8256      \n",
      "_________________________________________________________________\n",
      "dropout_9 (Dropout)          (None, 64)                0         \n",
      "_________________________________________________________________\n",
      "dense_9 (Dense)              (None, 10)                650       \n",
      "=================================================================\n",
      "Total params: 1,056,010\n",
      "Trainable params: 1,056,010\n",
      "Non-trainable params: 0\n",
      "_________________________________________________________________\n"
     ]
    }
   ],
   "source": [
    "model.summary()"
   ]
  },
  {
   "cell_type": "code",
   "execution_count": 66,
   "metadata": {
    "collapsed": true
   },
   "outputs": [],
   "source": [
    "model.compile(loss=keras.losses.categorical_crossentropy,\n",
    "              optimizer=keras.optimizers.SGD(lr=0.10, momentum=0.01, decay=0.005),     \n",
    "              metrics=['accuracy'])"
   ]
  },
  {
   "cell_type": "code",
   "execution_count": 67,
   "metadata": {},
   "outputs": [
    {
     "name": "stdout",
     "output_type": "stream",
     "text": [
      "Train on 60000 samples, validate on 10000 samples\n",
      "Epoch 1/5\n",
      "60000/60000 [==============================] - 400s 7ms/step - loss: 1.0137 - acc: 0.6203 - val_loss: 0.5632 - val_acc: 0.7777\n",
      "Epoch 2/5\n",
      "60000/60000 [==============================] - 420s 7ms/step - loss: 0.6771 - acc: 0.7499 - val_loss: 0.5220 - val_acc: 0.7977\n",
      "Epoch 3/5\n",
      "60000/60000 [==============================] - 425s 7ms/step - loss: 0.6225 - acc: 0.7719 - val_loss: 0.5028 - val_acc: 0.8032\n",
      "Epoch 4/5\n",
      "60000/60000 [==============================] - 410s 7ms/step - loss: 0.6001 - acc: 0.7821 - val_loss: 0.4864 - val_acc: 0.8053\n",
      "Epoch 5/5\n",
      "60000/60000 [==============================] - 409s 7ms/step - loss: 0.5783 - acc: 0.7881 - val_loss: 0.4759 - val_acc: 0.8132\n",
      "Wall time: 34min 24s\n"
     ]
    },
    {
     "data": {
      "text/plain": [
       "<keras.callbacks.History at 0x197bcead4e0>"
      ]
     },
     "execution_count": 67,
     "metadata": {},
     "output_type": "execute_result"
    }
   ],
   "source": [
    "%%time\n",
    "\n",
    "model.fit(x_train, y_train,\n",
    "          batch_size=batch_size,\n",
    "          epochs=epochs,\n",
    "          verbose=1,\n",
    "          validation_data=(x_test, y_test))"
   ]
  },
  {
   "cell_type": "code",
   "execution_count": 68,
   "metadata": {},
   "outputs": [
    {
     "data": {
      "text/plain": [
       "(10000, 28, 28, 1)"
      ]
     },
     "execution_count": 68,
     "metadata": {},
     "output_type": "execute_result"
    }
   ],
   "source": [
    "x_test.shape"
   ]
  },
  {
   "cell_type": "code",
   "execution_count": 69,
   "metadata": {},
   "outputs": [
    {
     "data": {
      "text/plain": [
       "(10000, 10)"
      ]
     },
     "execution_count": 69,
     "metadata": {},
     "output_type": "execute_result"
    }
   ],
   "source": [
    "y_test.shape"
   ]
  },
  {
   "cell_type": "code",
   "execution_count": 70,
   "metadata": {},
   "outputs": [
    {
     "name": "stdout",
     "output_type": "stream",
     "text": [
      "10000/10000 [==============================] - 23s 2ms/step\n",
      "Test loss: 0.47589507887363436\n",
      "Test accuracy: 0.8132\n"
     ]
    }
   ],
   "source": [
    "score = model.evaluate(x_test, y_test, verbose=1)\n",
    "\n",
    "print('Test loss:', score[0])\n",
    "\n",
    "print('Test accuracy:', score[1])"
   ]
  },
  {
   "cell_type": "code",
   "execution_count": 71,
   "metadata": {},
   "outputs": [
    {
     "data": {
      "text/plain": [
       "<matplotlib.image.AxesImage at 0x197bd1325f8>"
      ]
     },
     "execution_count": 71,
     "metadata": {},
     "output_type": "execute_result"
    },
    {
     "data": {
      "image/png": "[encoded data removed]",
      "text/plain": [
       "<matplotlib.figure.Figure at 0x197bd00e7b8>"
      ]
     },
     "metadata": {},
     "output_type": "display_data"
    }
   ],
   "source": [
    "plt.figure(figsize=(2,2))\n",
    "plt.imshow(x_test[26].reshape(28, 28), cmap='gray')"
   ]
  },
  {
   "cell_type": "code",
   "execution_count": 72,
   "metadata": {},
   "outputs": [
    {
     "name": "stdout",
     "output_type": "stream",
     "text": [
      "4\n",
      "Coat\n"
     ]
    }
   ],
   "source": [
    "t = model.predict(x_test[26].reshape(-1,28,28,1))\n",
    "\n",
    "cls = np.argmax(t)\n",
    "\n",
    "print(cls)\n",
    "print(labels[cls])"
   ]
  },
  {
   "cell_type": "code",
   "execution_count": 73,
   "metadata": {},
   "outputs": [
    {
     "data": {
      "text/plain": [
       "<matplotlib.image.AxesImage at 0x197bd47fcf8>"
      ]
     },
     "execution_count": 73,
     "metadata": {},
     "output_type": "execute_result"
    },
    {
     "data": {
      "image/png": "[encoded data removed]",
      "text/plain": [
       "<matplotlib.figure.Figure at 0x197a40a5978>"
      ]
     },
     "metadata": {},
     "output_type": "display_data"
    }
   ],
   "source": [
    "plt.figure(figsize=(2,2))\n",
    "plt.imshow(x_test[6].reshape(28, 28), cmap='gray')"
   ]
  },
  {
   "cell_type": "code",
   "execution_count": 74,
   "metadata": {},
   "outputs": [
    {
     "name": "stdout",
     "output_type": "stream",
     "text": [
      "4\n",
      "Coat\n"
     ]
    }
   ],
   "source": [
    "t = model.predict(x_test[6].reshape(-1,28,28,1))\n",
    "\n",
    "cls = np.argmax(t)\n",
    "\n",
    "print(cls)\n",
    "print(labels[cls])"
   ]
  },
  {
   "cell_type": "code",
   "execution_count": 75,
   "metadata": {},
   "outputs": [
    {
     "data": {
      "text/plain": [
       "array([[867,   3,  22,  34,   6,   2,  50,   1,  15,   0],\n",
       "       [  3, 961,   0,  27,   4,   1,   2,   0,   2,   0],\n",
       "       [ 17,   1, 708,   8, 232,   1,  27,   0,   6,   0],\n",
       "       [ 28,  11,  14, 871,  46,   1,  25,   0,   4,   0],\n",
       "       [  1,   4, 100,  39, 833,   0,  19,   0,   4,   0],\n",
       "       [  0,   0,   0,   0,   0, 951,   0,  26,   2,  21],\n",
       "       [283,   1, 317,  25, 246,   1, 105,   0,  22,   0],\n",
       "       [  0,   0,   0,   0,   0,  29,   0, 932,   0,  39],\n",
       "       [  1,   1,  12,   5,   7,   2,   4,   6, 961,   1],\n",
       "       [  0,   0,   0,   0,   0,  10,   0,  46,   1, 943]], dtype=int64)"
      ]
     },
     "execution_count": 75,
     "metadata": {},
     "output_type": "execute_result"
    }
   ],
   "source": [
    "predicted = model.predict(x_test)\n",
    "true_prediction = []\n",
    "found_prediction = []\n",
    "for p in predicted:\n",
    "    found_prediction.append(np.argmax(p))\n",
    "for q in y_test:\n",
    "    true_prediction.append(np.argmax(q))    \n",
    "    \n",
    "confusion_matrix(true_prediction, found_prediction)"
   ]
  },
  {
   "cell_type": "code",
   "execution_count": 76,
   "metadata": {
    "collapsed": true
   },
   "outputs": [],
   "source": [
    "model.compile(loss=keras.losses.categorical_crossentropy,\n",
    "              optimizer='adam',     \n",
    "              metrics=['accuracy'])"
   ]
  },
  {
   "cell_type": "code",
   "execution_count": 77,
   "metadata": {},
   "outputs": [
    {
     "name": "stdout",
     "output_type": "stream",
     "text": [
      "Train on 60000 samples, validate on 10000 samples\n",
      "Epoch 1/5\n",
      "60000/60000 [==============================] - 415s 7ms/step - loss: 0.5600 - acc: 0.7971 - val_loss: 0.4160 - val_acc: 0.8467\n",
      "Epoch 2/5\n",
      "60000/60000 [==============================] - 426s 7ms/step - loss: 0.4322 - acc: 0.8486 - val_loss: 0.3402 - val_acc: 0.8798\n",
      "Epoch 3/5\n",
      "60000/60000 [==============================] - 429s 7ms/step - loss: 0.3754 - acc: 0.8693 - val_loss: 0.3015 - val_acc: 0.8959\n",
      "Epoch 4/5\n",
      "60000/60000 [==============================] - 406s 7ms/step - loss: 0.3301 - acc: 0.8862 - val_loss: 0.2753 - val_acc: 0.9006\n",
      "Epoch 5/5\n",
      "60000/60000 [==============================] - 403s 7ms/step - loss: 0.3050 - acc: 0.8959 - val_loss: 0.2559 - val_acc: 0.9091\n",
      "Wall time: 34min 39s\n"
     ]
    },
    {
     "data": {
      "text/plain": [
       "<keras.callbacks.History at 0x197bdedd860>"
      ]
     },
     "execution_count": 77,
     "metadata": {},
     "output_type": "execute_result"
    }
   ],
   "source": [
    "%%time\n",
    "\n",
    "model.fit(x_train, y_train,\n",
    "          batch_size=batch_size,\n",
    "          epochs=epochs,\n",
    "          verbose=1,\n",
    "          validation_data=(x_test, y_test))"
   ]
  },
  {
   "cell_type": "code",
   "execution_count": 78,
   "metadata": {},
   "outputs": [
    {
     "name": "stdout",
     "output_type": "stream",
     "text": [
      "10000/10000 [==============================] - 24s 2ms/step\n",
      "Test loss: 0.2559213873386383\n",
      "Test accuracy: 0.9091\n"
     ]
    }
   ],
   "source": [
    "score = model.evaluate(x_test, y_test, verbose=1)\n",
    "\n",
    "print('Test loss:', score[0])\n",
    "\n",
    "print('Test accuracy:', score[1])"
   ]
  },
  {
   "cell_type": "code",
   "execution_count": 79,
   "metadata": {},
   "outputs": [
    {
     "data": {
      "text/plain": [
       "<matplotlib.image.AxesImage at 0x197be80f940>"
      ]
     },
     "execution_count": 79,
     "metadata": {},
     "output_type": "execute_result"
    },
    {
     "data": {
      "image/png": "[encoded data removed]",
      "text/plain": [
       "<matplotlib.figure.Figure at 0x197bd263ba8>"
      ]
     },
     "metadata": {},
     "output_type": "display_data"
    }
   ],
   "source": [
    "plt.figure(figsize=(2,2))\n",
    "plt.imshow(x_test[89].reshape(28, 28), cmap='gray')"
   ]
  },
  {
   "cell_type": "code",
   "execution_count": 80,
   "metadata": {},
   "outputs": [
    {
     "name": "stdout",
     "output_type": "stream",
     "text": [
      "6\n",
      "Shirt\n"
     ]
    }
   ],
   "source": [
    "t = model.predict(x_test[89].reshape(-1,28,28,1))\n",
    "\n",
    "cls = np.argmax(t)\n",
    "\n",
    "print(cls)\n",
    "print(labels[cls])"
   ]
  },
  {
   "cell_type": "code",
   "execution_count": 81,
   "metadata": {},
   "outputs": [
    {
     "data": {
      "text/plain": [
       "<matplotlib.image.AxesImage at 0x197bec2ec50>"
      ]
     },
     "execution_count": 81,
     "metadata": {},
     "output_type": "execute_result"
    },
    {
     "data": {
      "image/png": "[encoded data removed]",
      "text/plain": [
       "<matplotlib.figure.Figure at 0x197be706eb8>"
      ]
     },
     "metadata": {},
     "output_type": "display_data"
    }
   ],
   "source": [
    "plt.figure(figsize=(2,2))\n",
    "plt.imshow(x_test[65].reshape(28, 28), cmap='gray')"
   ]
  },
  {
   "cell_type": "code",
   "execution_count": 82,
   "metadata": {},
   "outputs": [
    {
     "name": "stdout",
     "output_type": "stream",
     "text": [
      "1\n",
      "Trouser\n"
     ]
    }
   ],
   "source": [
    "t = model.predict(x_test[65].reshape(-1,28,28,1))\n",
    "\n",
    "cls = np.argmax(t)\n",
    "\n",
    "print(cls)\n",
    "print(labels[cls])"
   ]
  },
  {
   "cell_type": "code",
   "execution_count": 83,
   "metadata": {},
   "outputs": [
    {
     "data": {
      "text/plain": [
       "array([[820,   1,  15,  17,   1,   1, 140,   0,   5,   0],\n",
       "       [  0, 979,   0,  12,   2,   0,   5,   0,   2,   0],\n",
       "       [ 14,   0, 877,   7,  46,   0,  55,   0,   1,   0],\n",
       "       [ 10,   2,  11, 916,  12,   0,  48,   0,   1,   0],\n",
       "       [  0,   1,  43,  38, 853,   0,  63,   0,   2,   0],\n",
       "       [  0,   0,   0,   0,   0, 986,   0,   6,   0,   8],\n",
       "       [ 81,   1,  69,  20,  64,   0, 748,   0,  17,   0],\n",
       "       [  0,   0,   0,   0,   0,  16,   0, 966,   0,  18],\n",
       "       [  0,   1,   0,   4,   1,   3,   4,   1, 986,   0],\n",
       "       [  0,   0,   0,   0,   0,   6,   0,  34,   0, 960]], dtype=int64)"
      ]
     },
     "execution_count": 83,
     "metadata": {},
     "output_type": "execute_result"
    }
   ],
   "source": [
    "predicted = model.predict(x_test)\n",
    "true_prediction = []\n",
    "found_prediction = []\n",
    "for p in predicted:\n",
    "    found_prediction.append(np.argmax(p))\n",
    "for q in y_test:\n",
    "    true_prediction.append(np.argmax(q))\n",
    "\n",
    "confusion_matrix(true_prediction, found_prediction)"
   ]
  },
  {
   "cell_type": "code",
   "execution_count": 84,
   "metadata": {
    "collapsed": true
   },
   "outputs": [],
   "source": [
    "model.compile(loss=keras.losses.categorical_crossentropy,\n",
    "              optimizer=keras.optimizers.Adagrad(lr=0.010, epsilon=None, decay=0.005),     \n",
    "              metrics=['accuracy'])"
   ]
  },
  {
   "cell_type": "code",
   "execution_count": 85,
   "metadata": {},
   "outputs": [
    {
     "name": "stdout",
     "output_type": "stream",
     "text": [
      "Train on 60000 samples, validate on 10000 samples\n",
      "Epoch 1/5\n",
      "60000/60000 [==============================] - 415s 7ms/step - loss: 0.2933 - acc: 0.8996 - val_loss: 0.2476 - val_acc: 0.9156\n",
      "Epoch 2/5\n",
      "60000/60000 [==============================] - 397s 7ms/step - loss: 0.2525 - acc: 0.9139 - val_loss: 0.2402 - val_acc: 0.9185\n",
      "Epoch 3/5\n",
      "60000/60000 [==============================] - 401s 7ms/step - loss: 0.2454 - acc: 0.9153 - val_loss: 0.2392 - val_acc: 0.9190\n",
      "Epoch 4/5\n",
      "60000/60000 [==============================] - 401s 7ms/step - loss: 0.2423 - acc: 0.9170 - val_loss: 0.2387 - val_acc: 0.9190\n",
      "Epoch 5/5\n",
      "60000/60000 [==============================] - 424s 7ms/step - loss: 0.2394 - acc: 0.9180 - val_loss: 0.2387 - val_acc: 0.9187\n",
      "Wall time: 33min 58s\n"
     ]
    },
    {
     "data": {
      "text/plain": [
       "<keras.callbacks.History at 0x197a2260710>"
      ]
     },
     "execution_count": 85,
     "metadata": {},
     "output_type": "execute_result"
    }
   ],
   "source": [
    "%%time\n",
    "\n",
    "model.fit(x_train, y_train,\n",
    "          batch_size=batch_size,\n",
    "          epochs=epochs,\n",
    "          verbose=1,\n",
    "          validation_data=(x_test, y_test))"
   ]
  },
  {
   "cell_type": "code",
   "execution_count": 86,
   "metadata": {},
   "outputs": [
    {
     "name": "stdout",
     "output_type": "stream",
     "text": [
      "10000/10000 [==============================] - 23s 2ms/step\n",
      "Test loss: 0.23868165065050126\n",
      "Test accuracy: 0.9187\n"
     ]
    }
   ],
   "source": [
    "score = model.evaluate(x_test, y_test, verbose=1)\n",
    "\n",
    "print('Test loss:', score[0])\n",
    "\n",
    "print('Test accuracy:', score[1])"
   ]
  },
  {
   "cell_type": "code",
   "execution_count": 87,
   "metadata": {},
   "outputs": [
    {
     "data": {
      "text/plain": [
       "<matplotlib.image.AxesImage at 0x197c0cf97b8>"
      ]
     },
     "execution_count": 87,
     "metadata": {},
     "output_type": "execute_result"
    },
    {
     "data": {
      "image/png": "[encoded data removed]",
      "text/plain": [
       "<matplotlib.figure.Figure at 0x197be842940>"
      ]
     },
     "metadata": {},
     "output_type": "display_data"
    }
   ],
   "source": [
    "plt.figure(figsize=(2,2))\n",
    "plt.imshow(x_test[160].reshape(28, 28), cmap='gray')"
   ]
  },
  {
   "cell_type": "code",
   "execution_count": 88,
   "metadata": {},
   "outputs": [
    {
     "name": "stdout",
     "output_type": "stream",
     "text": [
      "7\n",
      "Sneaker\n"
     ]
    }
   ],
   "source": [
    "t = model.predict(x_test[160].reshape(-1,28,28,1))\n",
    "\n",
    "cls = np.argmax(t)\n",
    "\n",
    "print(cls)\n",
    "print(labels[cls])"
   ]
  },
  {
   "cell_type": "code",
   "execution_count": 89,
   "metadata": {},
   "outputs": [
    {
     "data": {
      "text/plain": [
       "<matplotlib.image.AxesImage at 0x197be811b00>"
      ]
     },
     "execution_count": 89,
     "metadata": {},
     "output_type": "execute_result"
    },
    {
     "data": {
      "image/png": "[encoded data removed]",
      "text/plain": [
       "<matplotlib.figure.Figure at 0x197be74a668>"
      ]
     },
     "metadata": {},
     "output_type": "display_data"
    }
   ],
   "source": [
    "plt.figure(figsize=(2,2))\n",
    "plt.imshow(x_test[298].reshape(28, 28), cmap='gray')"
   ]
  },
  {
   "cell_type": "code",
   "execution_count": 90,
   "metadata": {},
   "outputs": [
    {
     "name": "stdout",
     "output_type": "stream",
     "text": [
      "8\n",
      "Bag\n"
     ]
    }
   ],
   "source": [
    "t = model.predict(x_test[298].reshape(-1,28,28,1))\n",
    "\n",
    "cls = np.argmax(t)\n",
    "\n",
    "print(cls)\n",
    "print(labels[cls])"
   ]
  },
  {
   "cell_type": "code",
   "execution_count": 91,
   "metadata": {},
   "outputs": [
    {
     "data": {
      "text/plain": [
       "array([[878,   1,  12,  14,   3,   1,  89,   0,   2,   0],\n",
       "       [  0, 979,   0,  11,   3,   0,   5,   0,   2,   0],\n",
       "       [ 16,   1, 880,   7,  50,   0,  46,   0,   0,   0],\n",
       "       [ 11,   5,   8, 925,  23,   0,  27,   0,   1,   0],\n",
       "       [  1,   1,  38,  29, 886,   0,  44,   0,   1,   0],\n",
       "       [  0,   0,   0,   0,   0, 984,   0,  10,   0,   6],\n",
       "       [105,   1,  54,  24,  70,   0, 738,   0,   8,   0],\n",
       "       [  0,   0,   0,   0,   0,   9,   0, 979,   0,  12],\n",
       "       [  1,   2,   4,   2,   2,   5,   1,   2, 980,   1],\n",
       "       [  0,   0,   0,   0,   0,   6,   0,  36,   0, 958]], dtype=int64)"
      ]
     },
     "execution_count": 91,
     "metadata": {},
     "output_type": "execute_result"
    }
   ],
   "source": [
    "predicted = model.predict(x_test)\n",
    "true_prediction = []\n",
    "found_prediction = []\n",
    "for p in predicted:\n",
    "    found_prediction.append(np.argmax(p))\n",
    "for q in y_test:\n",
    "    true_prediction.append(np.argmax(q))    \n",
    "    \n",
    "confusion_matrix(true_prediction, found_prediction)"
   ]
  },
  {
   "cell_type": "markdown",
   "metadata": {},
   "source": [
    "Confusion Matrix show confusion between:\n",
    "Shirt - T-Shirt/Top, pullover and coat\n",
    "\n",
    "Accuracy epoch = 5 (Due to low performance of my laptop)\n",
    "SGD optimizer - 81.32%\n",
    "Adam optimizer - 90.91%\n",
    "Adagrad optimizer - 91.87%\n"
   ]
  }
 ],
 "metadata": {
  "kernelspec": {
   "display_name": "Python 3",
   "language": "python",
   "name": "python3"
  },
  "language_info": {
   "codemirror_mode": {
    "name": "ipython",
    "version": 3
   },
   "file_extension": ".py",
   "mimetype": "text/x-python",
   "name": "python",
   "nbconvert_exporter": "python",
   "pygments_lexer": "ipython3",
   "version": "3.6.3"
  }
 },
 "nbformat": 4,
 "nbformat_minor": 2
}
