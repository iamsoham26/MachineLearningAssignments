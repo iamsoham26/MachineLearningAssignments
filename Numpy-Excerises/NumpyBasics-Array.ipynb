{
 "cells": [
  {
   "cell_type": "code",
   "execution_count": 1,
   "metadata": {},
   "outputs": [],
   "source": [
    "import numpy as np"
   ]
  },
  {
   "cell_type": "code",
   "execution_count": 2,
   "metadata": {},
   "outputs": [],
   "source": [
    "a = np.array([0,1,2,3])"
   ]
  },
  {
   "cell_type": "code",
   "execution_count": 3,
   "metadata": {},
   "outputs": [
    {
     "data": {
      "text/plain": [
       "array([0, 1, 2, 3])"
      ]
     },
     "execution_count": 3,
     "metadata": {},
     "output_type": "execute_result"
    }
   ],
   "source": [
    "a"
   ]
  },
  {
   "cell_type": "markdown",
   "metadata": {},
   "source": [
    "ndim = returns the dimention of the array\n",
    "\n",
    "shape = returns the shape of an array in terms of (row,column)\n",
    "\n",
    "len = returns the length of an array which is nothing but the number of rows"
   ]
  },
  {
   "cell_type": "code",
   "execution_count": 4,
   "metadata": {},
   "outputs": [],
   "source": [
    "b = np.array([[9,7,5,3,1],[0,8,6,4,2]])"
   ]
  },
  {
   "cell_type": "code",
   "execution_count": 5,
   "metadata": {},
   "outputs": [
    {
     "data": {
      "text/plain": [
       "array([[9, 7, 5, 3, 1],\n",
       "       [0, 8, 6, 4, 2]])"
      ]
     },
     "execution_count": 5,
     "metadata": {},
     "output_type": "execute_result"
    }
   ],
   "source": [
    "b"
   ]
  },
  {
   "cell_type": "code",
   "execution_count": 6,
   "metadata": {},
   "outputs": [
    {
     "data": {
      "text/plain": [
       "2"
      ]
     },
     "execution_count": 6,
     "metadata": {},
     "output_type": "execute_result"
    }
   ],
   "source": [
    "b.ndim"
   ]
  },
  {
   "cell_type": "code",
   "execution_count": 7,
   "metadata": {},
   "outputs": [
    {
     "data": {
      "text/plain": [
       "(2, 5)"
      ]
     },
     "execution_count": 7,
     "metadata": {},
     "output_type": "execute_result"
    }
   ],
   "source": [
    "b.shape"
   ]
  },
  {
   "cell_type": "code",
   "execution_count": 8,
   "metadata": {},
   "outputs": [
    {
     "data": {
      "text/plain": [
       "2"
      ]
     },
     "execution_count": 8,
     "metadata": {},
     "output_type": "execute_result"
    }
   ],
   "source": [
    "len(b)"
   ]
  },
  {
   "cell_type": "markdown",
   "metadata": {},
   "source": [
    "Functions for creating arrays\n",
    "\n",
    "arange(): evenly spaced array\n",
    "\n",
    "linspace(): evenly spaced by number of points(linearly)\n",
    "\n",
    "ones(): matrix of ones\n",
    "\n",
    "eye(): identity matrix\n",
    "\n",
    "zeros(): zero matrix\n",
    "\n",
    "diag(): values in diagonal only\n",
    "\n",
    "rand(): array of random numbers\n",
    "\n",
    "seed(): set up the seed"
   ]
  },
  {
   "cell_type": "code",
   "execution_count": 9,
   "metadata": {},
   "outputs": [],
   "source": [
    "arangeArray = np.arange(10) #gives an array of 10 evenly seprated values"
   ]
  },
  {
   "cell_type": "code",
   "execution_count": 10,
   "metadata": {},
   "outputs": [
    {
     "data": {
      "text/plain": [
       "array([0, 1, 2, 3, 4, 5, 6, 7, 8, 9])"
      ]
     },
     "execution_count": 10,
     "metadata": {},
     "output_type": "execute_result"
    }
   ],
   "source": [
    "arangeArray"
   ]
  },
  {
   "cell_type": "code",
   "execution_count": 11,
   "metadata": {},
   "outputs": [
    {
     "data": {
      "text/plain": [
       "array([1, 3, 5, 7, 9])"
      ]
     },
     "execution_count": 11,
     "metadata": {},
     "output_type": "execute_result"
    }
   ],
   "source": [
    "arangeArray1 = np.arange(1, 10, 2) #start at 1, end at 10 and seperate by 2\n",
    "arangeArray1"
   ]
  },
  {
   "cell_type": "code",
   "execution_count": 12,
   "metadata": {},
   "outputs": [
    {
     "data": {
      "text/plain": [
       "array([1. , 2.8, 4.6, 6.4, 8.2])"
      ]
     },
     "execution_count": 12,
     "metadata": {},
     "output_type": "execute_result"
    }
   ],
   "source": [
    "linspaceArray1 = np.linspace(1, 10, 5, endpoint=False) #start at 1, end at 10, number of points 5 and it won't consider 10 because endpoint=False\n",
    "linspaceArray1"
   ]
  },
  {
   "cell_type": "code",
   "execution_count": 13,
   "metadata": {},
   "outputs": [
    {
     "name": "stdout",
     "output_type": "stream",
     "text": [
      "[ 1.    3.25  5.5   7.75 10.  ]\n",
      "If consdering the ending number than we can ignore endpoint=True arg\n"
     ]
    }
   ],
   "source": [
    "linspaceArray2 = np.linspace(1, 10, 5, endpoint=True) #start at 1, end at 10, number of points 5 and it will consider 10 because endpoint=True\n",
    "print(linspaceArray2)\n",
    "\n",
    "print('If consdering the ending number than we can ignore endpoint=True arg');"
   ]
  },
  {
   "cell_type": "code",
   "execution_count": 14,
   "metadata": {},
   "outputs": [
    {
     "data": {
      "text/plain": [
       "array([[1., 1., 1.],\n",
       "       [1., 1., 1.],\n",
       "       [1., 1., 1.]])"
      ]
     },
     "execution_count": 14,
     "metadata": {},
     "output_type": "execute_result"
    }
   ],
   "source": [
    "onesArray = np.ones((3,3)) #this will return 2 dimentional matrix which will have all values as 1\n",
    "onesArray"
   ]
  },
  {
   "cell_type": "code",
   "execution_count": 15,
   "metadata": {},
   "outputs": [
    {
     "data": {
      "text/plain": [
       "array([[1., 0., 0.],\n",
       "       [0., 1., 0.],\n",
       "       [0., 0., 1.]])"
      ]
     },
     "execution_count": 15,
     "metadata": {},
     "output_type": "execute_result"
    }
   ],
   "source": [
    "iArray = np.eye(3) #this will return identity matrix of 3 dimentional(3*3)\n",
    "iArray"
   ]
  },
  {
   "cell_type": "code",
   "execution_count": 16,
   "metadata": {},
   "outputs": [
    {
     "data": {
      "text/plain": [
       "array([[ 2,  0,  0,  0,  0],\n",
       "       [ 0,  4,  0,  0,  0],\n",
       "       [ 0,  0,  6,  0,  0],\n",
       "       [ 0,  0,  0,  8,  0],\n",
       "       [ 0,  0,  0,  0, 10]])"
      ]
     },
     "execution_count": 16,
     "metadata": {},
     "output_type": "execute_result"
    }
   ],
   "source": [
    "diagonalArray = np.diag(np.array([2,4,6,8,10])) #this will return a matrix whoes values are in diagonal only\n",
    "diagonalArray"
   ]
  },
  {
   "cell_type": "code",
   "execution_count": 17,
   "metadata": {},
   "outputs": [
    {
     "data": {
      "text/plain": [
       "array([[0.00000000e+000, 0.00000000e+000],\n",
       "       [0.00000000e+000, 0.00000000e+000],\n",
       "       [0.00000000e+000, 5.86949987e-321],\n",
       "       [1.24610926e-306, 8.90060779e-307]])"
      ]
     },
     "execution_count": 17,
     "metadata": {},
     "output_type": "execute_result"
    }
   ],
   "source": [
    "emptyArray = np.empty([4,2]) #returns a random array\n",
    "emptyArray"
   ]
  },
  {
   "cell_type": "code",
   "execution_count": 18,
   "metadata": {},
   "outputs": [
    {
     "name": "stdout",
     "output_type": "stream",
     "text": [
      "[0.19151945 0.62210877 0.43772774 0.78535858]\n",
      "[-0.72058873  0.88716294  0.85958841 -0.6365235 ]\n",
      "\n",
      "By using random seed function it will generate same pseudo random numbers every time if we specify a particular number\n"
     ]
    }
   ],
   "source": [
    "np.random.seed(1234) #seed helps to generate pseudo random numbers by using given number\n",
    "random1 = np.random.rand(4) #generates random numbers\n",
    "print(random1)\n",
    "\n",
    "random2 = np.random.randn(4) #gaussian\n",
    "print(random2)\n",
    "\n",
    "print('\\nBy using random seed function it will generate same pseudo random numbers every time if we specify a particular number')"
   ]
  },
  {
   "cell_type": "markdown",
   "metadata": {},
   "source": [
    "Below is the code for multi dimentional array/vector/metrix by using numpy random function"
   ]
  },
  {
   "cell_type": "code",
   "execution_count": 19,
   "metadata": {},
   "outputs": [
    {
     "name": "stdout",
     "output_type": "stream",
     "text": [
      "[[0.29130622 0.99207505 0.76959105]\n",
      " [0.45074443 0.18730246 0.36797522]\n",
      " [0.63478708 0.58128267 0.54590911]]\n",
      "2 dimention\n",
      "(3, 3) shape\n",
      "length of an array  3\n",
      "************************************\n",
      "[[[0.49080382 0.32882138 0.1928807 ]\n",
      "  [0.99783684 0.39767726 0.73147673]\n",
      "  [0.28335974 0.85725709 0.8986053 ]]\n",
      "\n",
      " [[0.50610805 0.08071729 0.3969454 ]\n",
      "  [0.66925638 0.27521968 0.44026862]\n",
      "  [0.54144585 0.46445297 0.12376617]]\n",
      "\n",
      " [[0.92595547 0.33072713 0.8491703 ]\n",
      "  [0.79462251 0.53840701 0.07434087]\n",
      "  [0.16195347 0.50491823 0.93041789]]]\n",
      "3 dimention\n",
      "(3, 3, 3) shape\n",
      "length of an array  3\n"
     ]
    }
   ],
   "source": [
    "np.random.seed(121212)  #if any number is not defined it will generate different numbers every time\n",
    "randArray1 = np.random.rand(3,3)\n",
    "print(randArray1)\n",
    "print(randArray1.ndim, 'dimention')\n",
    "print(randArray1.shape, 'shape')\n",
    "print('length of an array ',len(randArray1))\n",
    "print('************************************')\n",
    "randArray2 = np.random.rand(3,3,3)\n",
    "print(randArray2)\n",
    "print(randArray2.ndim, 'dimention')\n",
    "print(randArray2.shape, 'shape')\n",
    "print('length of an array ',len(randArray2))"
   ]
  },
  {
   "cell_type": "code",
   "execution_count": null,
   "metadata": {},
   "outputs": [],
   "source": []
  },
  {
   "cell_type": "code",
   "execution_count": null,
   "metadata": {},
   "outputs": [],
   "source": []
  }
 ],
 "metadata": {
  "kernelspec": {
   "display_name": "Python 3",
   "language": "python",
   "name": "python3"
  },
  "language_info": {
   "codemirror_mode": {
    "name": "ipython",
    "version": 3
   },
   "file_extension": ".py",
   "mimetype": "text/x-python",
   "name": "python",
   "nbconvert_exporter": "python",
   "pygments_lexer": "ipython3",
   "version": "3.7.3"
  }
 },
 "nbformat": 4,
 "nbformat_minor": 2
}
